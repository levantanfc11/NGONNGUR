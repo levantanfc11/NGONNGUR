{
  "nbformat": 4,
  "nbformat_minor": 0,
  "metadata": {
    "colab": {
      "name": "ma_di_tuan.ipynb",
      "provenance": [],
      "authorship_tag": "ABX9TyMF7f4aX8o2d4mMHVNFd9Z3",
      "include_colab_link": true
    },
    "kernelspec": {
      "name": "python3",
      "display_name": "Python 3"
    }
  },
  "cells": [
    {
      "cell_type": "markdown",
      "metadata": {
        "id": "view-in-github",
        "colab_type": "text"
      },
      "source": [
        "<a href=\"https://colab.research.google.com/github/levantanfc11/NGONNGUR/blob/main/ma_di_tuan.ipynb\" target=\"_parent\"><img src=\"https://colab.research.google.com/assets/colab-badge.svg\" alt=\"Open In Colab\"/></a>"
      ]
    },
    {
      "cell_type": "code",
      "metadata": {
        "colab": {
          "base_uri": "https://localhost:8080/"
        },
        "id": "hD_o0GfdiC7k",
        "outputId": "ec03271d-6897-46b2-b885-1a1da54a9e5c"
      },
      "source": [
        "n = int(input(\"Nhập số phần tử của bàn cờ mà bạn muốn tạo: \"))\r\n",
        "\r\n",
        "##Kiểm tra xem i, j có phải là các chỉ mục hợp lệ cho bàn cờ N * N hay không\r\n",
        "def KT(x, y, Ban_co):\r\n",
        "    if(x >=0 and y >=0 and x < n and y < n and Ban_co[x][y] == -1):\r\n",
        "        return True\r\n",
        "    return False\r\n",
        "\r\n",
        "\r\n",
        "#In ma trận bàn cờ\r\n",
        "def Giai_phap(n, Ban_co):\r\n",
        "    for i in range(n):\r\n",
        "        for j in range(n):\r\n",
        "            print(Ban_co[i][j], end=' ')\r\n",
        "        print()\r\n",
        "            \r\n",
        "\r\n",
        "def solve(n):\r\n",
        "    '''                                                   \r\n",
        "      Giải quyết đường đi của quân Mã bằng phương pháp\r\n",
        "      Backtracking. \r\n",
        "      Trả về false nếu không có giải pháp\r\n",
        "      Nếu không, trả về true và in giải pháp\r\n",
        "    '''\r\n",
        "    \r\n",
        "    #Khởi tạo ma trận Bàn cờ\r\n",
        "    Ban_co = [[-1 for i in range(n)] for i in range(n)]\r\n",
        "    #DiChuyen_x và DiChuyen_y xác định nước đi tiếp theo của quân Mã\r\n",
        "    # DiChuyen_x là giá trị tiếp theo của tọa độ x\r\n",
        "    # DiChuyen_y là giá trị tiếp theo của tọa độ y\r\n",
        "    DiChuyen_x = [2, 1, -1, -2, -2, -1, 1, 2]\r\n",
        "    DiChuyen_y = [1, 2, 2, 1, -1, -2, -2, -1]\r\n",
        "    \r\n",
        "    #quân Mã ở vt đầu tiên\r\n",
        "    Ban_co[0][0] = 0\r\n",
        "    \r\n",
        "    #Bộ đếm bước đi của quân Mã\r\n",
        "    vi_tri = 1\r\n",
        "    \r\n",
        "    #Kiểm tra xem giải pháp có tồn tại hay không\r\n",
        "    if(not solveUtil(n, Ban_co, 0, 0, DiChuyen_x, DiChuyen_y, vi_tri)):\r\n",
        "        print(\"Không có giải pháp giải quyết!\")\r\n",
        "    else:\r\n",
        "        print(Giai_phap(n, Ban_co))\r\n",
        "        \r\n",
        "\r\n",
        "def solveUtil(n, Ban_co, x_hientai, y_hientai, DiChuyen_x, DiChuyen_y, vi_tri):\r\n",
        "    '''\r\n",
        "        Dùng đệ quy để giải quyết vấn đề\r\n",
        "    '''\r\n",
        "    if(vi_tri == n**2):\r\n",
        "        return True\r\n",
        "    \r\n",
        "    #Thử tất cả các bước di chuyển tiếp theo từ tọa độ x, y hiện tại\r\n",
        "    for i in range(n):\r\n",
        "        BDM_x = x_hientai + DiChuyen_x[i]\r\n",
        "        BDM_y = y_hientai + DiChuyen_y[i]\r\n",
        "        if(KT(BDM_x, BDM_y, Ban_co)):\r\n",
        "            Ban_co[BDM_x][BDM_y] = vi_tri\r\n",
        "            if(solveUtil(n, Ban_co, BDM_x, BDM_y, DiChuyen_x, DiChuyen_y, vi_tri+1)):\r\n",
        "                return True\r\n",
        "            \r\n",
        "            # Backtracking\r\n",
        "            Ban_co[BDM_x][BDM_y] = -1\r\n",
        "    return False\r\n",
        "\r\n",
        "\r\n",
        "print(solve(n))"
      ],
      "execution_count": 3,
      "outputs": [
        {
          "output_type": "stream",
          "text": [
            "Nhập số phần tử của bàn cờ mà bạn muốn tạo: 8\n",
            "0 59 38 33 30 17 8 63 \n",
            "37 34 31 60 9 62 29 16 \n",
            "58 1 36 39 32 27 18 7 \n",
            "35 48 41 26 61 10 15 28 \n",
            "42 57 2 49 40 23 6 19 \n",
            "47 50 45 54 25 20 11 14 \n",
            "56 43 52 3 22 13 24 5 \n",
            "51 46 55 44 53 4 21 12 \n",
            "None\n",
            "None\n"
          ],
          "name": "stdout"
        }
      ]
    }
  ]
}